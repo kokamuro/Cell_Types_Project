{
 "cells": [
  {
   "cell_type": "markdown",
   "metadata": {},
   "source": [
    "# Cell Types Project Master Notebook"
   ]
  },
  {
   "cell_type": "code",
   "execution_count": 2,
   "metadata": {},
   "outputs": [
    {
     "name": "stdout",
     "output_type": "stream",
     "text": [
      "12\n"
     ]
    }
   ],
   "source": [
    "# maybe this requires actual code\n",
    "\n",
    "a = 12\n",
    "\n",
    "print(a)"
   ]
  },
  {
   "cell_type": "code",
   "execution_count": 1,
   "metadata": {},
   "outputs": [],
   "source": [
    "#Import the \"Cell Types Cache\" from the AllenSDK core package\n",
    "from allensdk.core.cell_types_cache import CellTypesCache\n",
    "\n",
    "#Import CellTypesApi, which will allow us to query the database.\n",
    "from allensdk.api.queries.cell_types_api import CellTypesApi\n",
    "\n",
    "# initialize cache as 'ctc' (cell types cache)\n",
    "ctc = CellTypesCache(manifest_file='cell_types/manifest.json')\n",
    "\n",
    "# import tool used to get AP spike data for specimen\n",
    "from allensdk.ephys.ephys_extractor import EphysSweepFeatureExtractor\n",
    "\n",
    "import pandas as pd\n",
    "import numpy as np\n",
    "\n",
    "# get rid of all the ugly red warnings\n",
    "import warnings\n",
    "warnings.filterwarnings('ignore')"
   ]
  },
  {
   "cell_type": "markdown",
   "metadata": {},
   "source": [
    "The paper used mouse data, so filter to get only mouse specimen."
   ]
  },
  {
   "cell_type": "code",
   "execution_count": 16,
   "metadata": {
    "scrolled": false
   },
   "outputs": [
    {
     "data": {
      "text/html": [
       "<div>\n",
       "<style scoped>\n",
       "    .dataframe tbody tr th:only-of-type {\n",
       "        vertical-align: middle;\n",
       "    }\n",
       "\n",
       "    .dataframe tbody tr th {\n",
       "        vertical-align: top;\n",
       "    }\n",
       "\n",
       "    .dataframe thead th {\n",
       "        text-align: right;\n",
       "    }\n",
       "</style>\n",
       "<table border=\"1\" class=\"dataframe\">\n",
       "  <thead>\n",
       "    <tr style=\"text-align: right;\">\n",
       "      <th></th>\n",
       "      <th>species</th>\n",
       "    </tr>\n",
       "    <tr>\n",
       "      <th>id</th>\n",
       "      <th></th>\n",
       "    </tr>\n",
       "  </thead>\n",
       "  <tbody>\n",
       "    <tr>\n",
       "      <th>565871768</th>\n",
       "      <td>Mus musculus</td>\n",
       "    </tr>\n",
       "    <tr>\n",
       "      <th>469801138</th>\n",
       "      <td>Mus musculus</td>\n",
       "    </tr>\n",
       "    <tr>\n",
       "      <th>605889373</th>\n",
       "      <td>Mus musculus</td>\n",
       "    </tr>\n",
       "    <tr>\n",
       "      <th>485909730</th>\n",
       "      <td>Mus musculus</td>\n",
       "    </tr>\n",
       "    <tr>\n",
       "      <th>323865917</th>\n",
       "      <td>Mus musculus</td>\n",
       "    </tr>\n",
       "    <tr>\n",
       "      <th>...</th>\n",
       "      <td>...</td>\n",
       "    </tr>\n",
       "    <tr>\n",
       "      <th>512322162</th>\n",
       "      <td>Mus musculus</td>\n",
       "    </tr>\n",
       "    <tr>\n",
       "      <th>488473535</th>\n",
       "      <td>Mus musculus</td>\n",
       "    </tr>\n",
       "    <tr>\n",
       "      <th>467003163</th>\n",
       "      <td>Mus musculus</td>\n",
       "    </tr>\n",
       "    <tr>\n",
       "      <th>572609946</th>\n",
       "      <td>Mus musculus</td>\n",
       "    </tr>\n",
       "    <tr>\n",
       "      <th>464212183</th>\n",
       "      <td>Mus musculus</td>\n",
       "    </tr>\n",
       "  </tbody>\n",
       "</table>\n",
       "<p>1920 rows × 1 columns</p>\n",
       "</div>"
      ],
      "text/plain": [
       "                species\n",
       "id                     \n",
       "565871768  Mus musculus\n",
       "469801138  Mus musculus\n",
       "605889373  Mus musculus\n",
       "485909730  Mus musculus\n",
       "323865917  Mus musculus\n",
       "...                 ...\n",
       "512322162  Mus musculus\n",
       "488473535  Mus musculus\n",
       "467003163  Mus musculus\n",
       "572609946  Mus musculus\n",
       "464212183  Mus musculus\n",
       "\n",
       "[1920 rows x 1 columns]"
      ]
     },
     "execution_count": 16,
     "metadata": {},
     "output_type": "execute_result"
    }
   ],
   "source": [
    "mouse_cells = ctc.get_cells(species = ['mus musculus'])\n",
    "mouse_cells_df = pd.DataFrame(mouse_cells)\n",
    "mouse_ids_df = mouse_cells_df[['id', 'species']].set_index('id')\n",
    "mouse_ids_df"
   ]
  },
  {
   "cell_type": "markdown",
   "metadata": {},
   "source": [
    "Get ephys features of the mouse species only"
   ]
  },
  {
   "cell_type": "code",
   "execution_count": 26,
   "metadata": {},
   "outputs": [
    {
     "data": {
      "text/html": [
       "<div>\n",
       "<style scoped>\n",
       "    .dataframe tbody tr th:only-of-type {\n",
       "        vertical-align: middle;\n",
       "    }\n",
       "\n",
       "    .dataframe tbody tr th {\n",
       "        vertical-align: top;\n",
       "    }\n",
       "\n",
       "    .dataframe thead th {\n",
       "        text-align: right;\n",
       "    }\n",
       "</style>\n",
       "<table border=\"1\" class=\"dataframe\">\n",
       "  <thead>\n",
       "    <tr style=\"text-align: right;\">\n",
       "      <th></th>\n",
       "      <th>id</th>\n",
       "      <th>rheobase_sweep_number</th>\n",
       "    </tr>\n",
       "    <tr>\n",
       "      <th>specimen_id</th>\n",
       "      <th></th>\n",
       "      <th></th>\n",
       "    </tr>\n",
       "  </thead>\n",
       "  <tbody>\n",
       "    <tr>\n",
       "      <th>529878215</th>\n",
       "      <td>529951870</td>\n",
       "      <td>78</td>\n",
       "    </tr>\n",
       "    <tr>\n",
       "      <th>548459652</th>\n",
       "      <td>549196534</td>\n",
       "      <td>55</td>\n",
       "    </tr>\n",
       "    <tr>\n",
       "      <th>579978640</th>\n",
       "      <td>579986979</td>\n",
       "      <td>38</td>\n",
       "    </tr>\n",
       "    <tr>\n",
       "      <th>439024551</th>\n",
       "      <td>439816233</td>\n",
       "      <td>41</td>\n",
       "    </tr>\n",
       "    <tr>\n",
       "      <th>515188639</th>\n",
       "      <td>515191763</td>\n",
       "      <td>36</td>\n",
       "    </tr>\n",
       "    <tr>\n",
       "      <th>...</th>\n",
       "      <td>...</td>\n",
       "      <td>...</td>\n",
       "    </tr>\n",
       "    <tr>\n",
       "      <th>569955172</th>\n",
       "      <td>569957302</td>\n",
       "      <td>58</td>\n",
       "    </tr>\n",
       "    <tr>\n",
       "      <th>573410831</th>\n",
       "      <td>573464735</td>\n",
       "      <td>42</td>\n",
       "    </tr>\n",
       "    <tr>\n",
       "      <th>576285618</th>\n",
       "      <td>576324611</td>\n",
       "      <td>39</td>\n",
       "    </tr>\n",
       "    <tr>\n",
       "      <th>520462275</th>\n",
       "      <td>520471458</td>\n",
       "      <td>42</td>\n",
       "    </tr>\n",
       "    <tr>\n",
       "      <th>322507839</th>\n",
       "      <td>396488652</td>\n",
       "      <td>29</td>\n",
       "    </tr>\n",
       "  </tbody>\n",
       "</table>\n",
       "<p>2333 rows × 2 columns</p>\n",
       "</div>"
      ],
      "text/plain": [
       "                    id  rheobase_sweep_number\n",
       "specimen_id                                  \n",
       "529878215    529951870                     78\n",
       "548459652    549196534                     55\n",
       "579978640    579986979                     38\n",
       "439024551    439816233                     41\n",
       "515188639    515191763                     36\n",
       "...                ...                    ...\n",
       "569955172    569957302                     58\n",
       "573410831    573464735                     42\n",
       "576285618    576324611                     39\n",
       "520462275    520471458                     42\n",
       "322507839    396488652                     29\n",
       "\n",
       "[2333 rows x 2 columns]"
      ]
     },
     "execution_count": 26,
     "metadata": {},
     "output_type": "execute_result"
    }
   ],
   "source": [
    "ephys_features = ctc.get_ephys_features()\n",
    "ephys_features_df = pd.DataFrame(ephys_features)\n",
    "ephys_ids_df = ephys_features_df[['id','specimen_id','rheobase_sweep_number']].set_index('specimen_id')\n",
    "ephys_ids_df\n",
    "ephys_ids_df"
   ]
  },
  {
   "cell_type": "markdown",
   "metadata": {},
   "source": [
    "Use inner join to get specimen ids of only mouse species.\n",
    "\n",
    "Is 'id' in mouse cells df the same as 'specimen id' in ephys data? Assuming yes, we can do the following to get the rheobase sweep number for each mouse specimen"
   ]
  },
  {
   "cell_type": "code",
   "execution_count": 31,
   "metadata": {},
   "outputs": [
    {
     "data": {
      "text/html": [
       "<div>\n",
       "<style scoped>\n",
       "    .dataframe tbody tr th:only-of-type {\n",
       "        vertical-align: middle;\n",
       "    }\n",
       "\n",
       "    .dataframe tbody tr th {\n",
       "        vertical-align: top;\n",
       "    }\n",
       "\n",
       "    .dataframe thead th {\n",
       "        text-align: right;\n",
       "    }\n",
       "</style>\n",
       "<table border=\"1\" class=\"dataframe\">\n",
       "  <thead>\n",
       "    <tr style=\"text-align: right;\">\n",
       "      <th></th>\n",
       "      <th>species</th>\n",
       "      <th>id</th>\n",
       "      <th>rheobase_sweep_number</th>\n",
       "    </tr>\n",
       "    <tr>\n",
       "      <th>id</th>\n",
       "      <th></th>\n",
       "      <th></th>\n",
       "      <th></th>\n",
       "    </tr>\n",
       "  </thead>\n",
       "  <tbody>\n",
       "    <tr>\n",
       "      <th>565871768</th>\n",
       "      <td>Mus musculus</td>\n",
       "      <td>565878140</td>\n",
       "      <td>40</td>\n",
       "    </tr>\n",
       "    <tr>\n",
       "      <th>469801138</th>\n",
       "      <td>Mus musculus</td>\n",
       "      <td>469802615</td>\n",
       "      <td>57</td>\n",
       "    </tr>\n",
       "    <tr>\n",
       "      <th>605889373</th>\n",
       "      <td>Mus musculus</td>\n",
       "      <td>605903794</td>\n",
       "      <td>53</td>\n",
       "    </tr>\n",
       "    <tr>\n",
       "      <th>485909730</th>\n",
       "      <td>Mus musculus</td>\n",
       "      <td>485911653</td>\n",
       "      <td>33</td>\n",
       "    </tr>\n",
       "    <tr>\n",
       "      <th>323865917</th>\n",
       "      <td>Mus musculus</td>\n",
       "      <td>396487207</td>\n",
       "      <td>34</td>\n",
       "    </tr>\n",
       "    <tr>\n",
       "      <th>...</th>\n",
       "      <td>...</td>\n",
       "      <td>...</td>\n",
       "      <td>...</td>\n",
       "    </tr>\n",
       "    <tr>\n",
       "      <th>512322162</th>\n",
       "      <td>Mus musculus</td>\n",
       "      <td>512323887</td>\n",
       "      <td>44</td>\n",
       "    </tr>\n",
       "    <tr>\n",
       "      <th>488473535</th>\n",
       "      <td>Mus musculus</td>\n",
       "      <td>488474973</td>\n",
       "      <td>57</td>\n",
       "    </tr>\n",
       "    <tr>\n",
       "      <th>467003163</th>\n",
       "      <td>Mus musculus</td>\n",
       "      <td>469566263</td>\n",
       "      <td>45</td>\n",
       "    </tr>\n",
       "    <tr>\n",
       "      <th>572609946</th>\n",
       "      <td>Mus musculus</td>\n",
       "      <td>575794259</td>\n",
       "      <td>45</td>\n",
       "    </tr>\n",
       "    <tr>\n",
       "      <th>464212183</th>\n",
       "      <td>Mus musculus</td>\n",
       "      <td>464366365</td>\n",
       "      <td>45</td>\n",
       "    </tr>\n",
       "  </tbody>\n",
       "</table>\n",
       "<p>1920 rows × 3 columns</p>\n",
       "</div>"
      ],
      "text/plain": [
       "                species         id  rheobase_sweep_number\n",
       "id                                                       \n",
       "565871768  Mus musculus  565878140                     40\n",
       "469801138  Mus musculus  469802615                     57\n",
       "605889373  Mus musculus  605903794                     53\n",
       "485909730  Mus musculus  485911653                     33\n",
       "323865917  Mus musculus  396487207                     34\n",
       "...                 ...        ...                    ...\n",
       "512322162  Mus musculus  512323887                     44\n",
       "488473535  Mus musculus  488474973                     57\n",
       "467003163  Mus musculus  469566263                     45\n",
       "572609946  Mus musculus  575794259                     45\n",
       "464212183  Mus musculus  464366365                     45\n",
       "\n",
       "[1920 rows x 3 columns]"
      ]
     },
     "execution_count": 31,
     "metadata": {},
     "output_type": "execute_result"
    }
   ],
   "source": [
    "mouse_species_df = mouse_ids_df.join(ephys_ids_df)\n",
    "mouse_species_df"
   ]
  },
  {
   "cell_type": "code",
   "execution_count": 35,
   "metadata": {},
   "outputs": [],
   "source": [
    "def calc_spike_width(specimen_id):\n",
    "    \n",
    "    data_set = ctc.get_ephys_data(specimen_id)\n",
    "\n",
    "    sweep_number = mouse_species_df.loc[specimen_id]['rheobase_sweep_number']\n",
    "    sweep_data = data_set.get_sweep(sweep_number)\n",
    "\n",
    "    index_range = sweep_data[\"index_range\"]\n",
    "    i = sweep_data[\"stimulus\"][0:index_range[1]+1] # in A\n",
    "    v = sweep_data[\"response\"][0:index_range[1]+1] # in V\n",
    "    i *= 1e12 # to pA\n",
    "    v *= 1e3 # to mV\n",
    "\n",
    "    sampling_rate = sweep_data[\"sampling_rate\"] # in Hz\n",
    "    t = np.arange(0, len(v)) * (1.0 / sampling_rate)\n",
    "\n",
    "    sweep_ext = EphysSweepFeatureExtractor(t=t, v=v, i=i, start=1.02, end=2.02)\n",
    "    sweep_ext.process_spikes()\n",
    "\n",
    "    return round(1e3 * np.nanmean(sweep_ext.spike_feature(\"width\")),4)"
   ]
  },
  {
   "cell_type": "code",
   "execution_count": 36,
   "metadata": {},
   "outputs": [
    {
     "data": {
      "text/plain": [
       "0.44"
      ]
     },
     "execution_count": 36,
     "metadata": {},
     "output_type": "execute_result"
    }
   ],
   "source": [
    "calc_spike_width(565871768)"
   ]
  },
  {
   "cell_type": "markdown",
   "metadata": {},
   "source": [
    "Randomly sample 500 rows of mouse species df"
   ]
  },
  {
   "cell_type": "code",
   "execution_count": null,
   "metadata": {},
   "outputs": [],
   "source": []
  }
 ],
 "metadata": {
  "kernelspec": {
   "display_name": "Python 3",
   "language": "python",
   "name": "python3"
  },
  "language_info": {
   "codemirror_mode": {
    "name": "ipython",
    "version": 3
   },
   "file_extension": ".py",
   "mimetype": "text/x-python",
   "name": "python",
   "nbconvert_exporter": "python",
   "pygments_lexer": "ipython3",
   "version": "3.6.7"
  }
 },
 "nbformat": 4,
 "nbformat_minor": 2
}
